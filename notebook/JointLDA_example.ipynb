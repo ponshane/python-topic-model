{
 "cells": [
  {
   "cell_type": "code",
   "execution_count": null,
   "metadata": {},
   "outputs": [],
   "source": [
    "import logging\n",
    "import numpy as np\n",
    "\n",
    "import sys\n",
    "sys.path.append('..')\n",
    "\n",
    "from ptm.JointLDA import JointGibbsLDA\n",
    "from ptm.utils import get_top_words\n",
    "from ptm.JointCorpus import JointCorpus"
   ]
  },
  {
   "cell_type": "code",
   "execution_count": null,
   "metadata": {},
   "outputs": [],
   "source": [
    "corpus = JointCorpus(source_corpus_file=\"../data/um/50K_English_UM_Corpus.txt\",\n",
    "                     target_corpus_file=\"../data/um/50K_Chinese_UM_Corpus.txt\")"
   ]
  },
  {
   "cell_type": "code",
   "execution_count": null,
   "metadata": {},
   "outputs": [],
   "source": [
    "corpus.update_doctionary(\"../data/um/um-corpus-news-top-translation.csv\")"
   ]
  },
  {
   "cell_type": "code",
   "execution_count": null,
   "metadata": {},
   "outputs": [],
   "source": [
    "corpus.convert_raw_corpus_to_trainable_corpus()"
   ]
  },
  {
   "cell_type": "code",
   "execution_count": null,
   "metadata": {},
   "outputs": [],
   "source": [
    "n_topic=20\n",
    "model = JointGibbsLDA(n_doc=len(corpus.docs), n_concept=corpus.n_concept, n_s_vocab=corpus.n_s_vocab,\n",
    "                      n_t_vocab=corpus.n_t_vocab, n_topic=n_topic)\n",
    "model.fit(corpus.docs, corpus.language_flags, max_iter=100)"
   ]
  },
  {
   "cell_type": "code",
   "execution_count": null,
   "metadata": {},
   "outputs": [],
   "source": [
    "for ti in range(n_topic):\n",
    "    top_words = get_top_words(model.TW, corpus.reconcatenate_dict, ti, n_words=30)\n",
    "    print('Topic', ti ,': ', top_words)\n",
    "    #print('Topic', ti ,': ', ','.join(top_words))"
   ]
  }
 ],
 "metadata": {
  "kernelspec": {
   "display_name": "Python [conda env:ptm]",
   "language": "python",
   "name": "conda-env-ptm-py"
  },
  "language_info": {
   "codemirror_mode": {
    "name": "ipython",
    "version": 3
   },
   "file_extension": ".py",
   "mimetype": "text/x-python",
   "name": "python",
   "nbconvert_exporter": "python",
   "pygments_lexer": "ipython3",
   "version": "3.6.8"
  }
 },
 "nbformat": 4,
 "nbformat_minor": 2
}
